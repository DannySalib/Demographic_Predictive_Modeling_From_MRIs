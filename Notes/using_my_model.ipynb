{
 "cells": [
  {
   "cell_type": "code",
   "execution_count": null,
   "id": "6e281709",
   "metadata": {},
   "outputs": [
    {
     "name": "stdout",
     "output_type": "stream",
     "text": [
      "[fetch_atlas_harvard_oxford] Dataset found in C:\\Users\\Danny\\nilearn_data\\fsl\n",
      "[fetch_atlas_harvard_oxford] Dataset found in C:\\Users\\Danny\\nilearn_data\\fsl\n"
     ]
    },
    {
     "data": {
      "text/html": [
       "<div>\n",
       "<style scoped>\n",
       "    .dataframe tbody tr th:only-of-type {\n",
       "        vertical-align: middle;\n",
       "    }\n",
       "\n",
       "    .dataframe tbody tr th {\n",
       "        vertical-align: top;\n",
       "    }\n",
       "\n",
       "    .dataframe thead th {\n",
       "        text-align: right;\n",
       "    }\n",
       "</style>\n",
       "<table border=\"1\" class=\"dataframe\">\n",
       "  <thead>\n",
       "    <tr style=\"text-align: right;\">\n",
       "      <th></th>\n",
       "      <th>Age</th>\n",
       "      <th>AgeGroup</th>\n",
       "      <th>Child_Adult</th>\n",
       "      <th>Gender</th>\n",
       "      <th>Handedness</th>\n",
       "      <th>ToM Booklet-Matched</th>\n",
       "      <th>ToM Booklet-Matched-NOFB</th>\n",
       "      <th>FB_Composite</th>\n",
       "      <th>FB_Group</th>\n",
       "      <th>WPPSI BD raw</th>\n",
       "      <th>WPPSI BD scaled</th>\n",
       "      <th>KBIT_raw</th>\n",
       "      <th>KBIT_standard</th>\n",
       "      <th>DCCS Summary</th>\n",
       "      <th>Scanlog: Scanner</th>\n",
       "      <th>Scanlog: Coil</th>\n",
       "      <th>Scanlog: Voxel slize</th>\n",
       "      <th>Scanlog: Slice Gap</th>\n",
       "    </tr>\n",
       "    <tr>\n",
       "      <th>participant_id</th>\n",
       "      <th></th>\n",
       "      <th></th>\n",
       "      <th></th>\n",
       "      <th></th>\n",
       "      <th></th>\n",
       "      <th></th>\n",
       "      <th></th>\n",
       "      <th></th>\n",
       "      <th></th>\n",
       "      <th></th>\n",
       "      <th></th>\n",
       "      <th></th>\n",
       "      <th></th>\n",
       "      <th></th>\n",
       "      <th></th>\n",
       "      <th></th>\n",
       "      <th></th>\n",
       "      <th></th>\n",
       "    </tr>\n",
       "  </thead>\n",
       "  <tbody>\n",
       "    <tr>\n",
       "      <th>sub-pixar001</th>\n",
       "      <td>4.774812</td>\n",
       "      <td>4yo</td>\n",
       "      <td>child</td>\n",
       "      <td>M</td>\n",
       "      <td>R</td>\n",
       "      <td>0.80</td>\n",
       "      <td>0.736842</td>\n",
       "      <td>6.0</td>\n",
       "      <td>pass</td>\n",
       "      <td>22.0</td>\n",
       "      <td>13.0</td>\n",
       "      <td>NaN</td>\n",
       "      <td>NaN</td>\n",
       "      <td>3.0</td>\n",
       "      <td>3T1</td>\n",
       "      <td>7-8yo 32ch</td>\n",
       "      <td>3mm iso</td>\n",
       "      <td>0.1</td>\n",
       "    </tr>\n",
       "    <tr>\n",
       "      <th>sub-pixar002</th>\n",
       "      <td>4.856947</td>\n",
       "      <td>4yo</td>\n",
       "      <td>child</td>\n",
       "      <td>F</td>\n",
       "      <td>R</td>\n",
       "      <td>0.72</td>\n",
       "      <td>0.736842</td>\n",
       "      <td>4.0</td>\n",
       "      <td>inc</td>\n",
       "      <td>18.0</td>\n",
       "      <td>9.0</td>\n",
       "      <td>NaN</td>\n",
       "      <td>NaN</td>\n",
       "      <td>2.0</td>\n",
       "      <td>3T1</td>\n",
       "      <td>7-8yo 32ch</td>\n",
       "      <td>3mm iso</td>\n",
       "      <td>0.1</td>\n",
       "    </tr>\n",
       "    <tr>\n",
       "      <th>sub-pixar003</th>\n",
       "      <td>4.153320</td>\n",
       "      <td>4yo</td>\n",
       "      <td>child</td>\n",
       "      <td>F</td>\n",
       "      <td>R</td>\n",
       "      <td>0.44</td>\n",
       "      <td>0.421053</td>\n",
       "      <td>3.0</td>\n",
       "      <td>inc</td>\n",
       "      <td>15.0</td>\n",
       "      <td>9.0</td>\n",
       "      <td>NaN</td>\n",
       "      <td>NaN</td>\n",
       "      <td>3.0</td>\n",
       "      <td>3T1</td>\n",
       "      <td>7-8yo 32ch</td>\n",
       "      <td>3mm iso</td>\n",
       "      <td>0.1</td>\n",
       "    </tr>\n",
       "  </tbody>\n",
       "</table>\n",
       "</div>"
      ],
      "text/plain": [
       "                     Age AgeGroup Child_Adult Gender Handedness  \\\n",
       "participant_id                                                    \n",
       "sub-pixar001    4.774812      4yo       child      M          R   \n",
       "sub-pixar002    4.856947      4yo       child      F          R   \n",
       "sub-pixar003    4.153320      4yo       child      F          R   \n",
       "\n",
       "                ToM Booklet-Matched  ToM Booklet-Matched-NOFB  FB_Composite  \\\n",
       "participant_id                                                                \n",
       "sub-pixar001                   0.80                  0.736842           6.0   \n",
       "sub-pixar002                   0.72                  0.736842           4.0   \n",
       "sub-pixar003                   0.44                  0.421053           3.0   \n",
       "\n",
       "               FB_Group  WPPSI BD raw  WPPSI BD scaled  KBIT_raw  \\\n",
       "participant_id                                                     \n",
       "sub-pixar001       pass          22.0             13.0       NaN   \n",
       "sub-pixar002        inc          18.0              9.0       NaN   \n",
       "sub-pixar003        inc          15.0              9.0       NaN   \n",
       "\n",
       "                KBIT_standard  DCCS Summary Scanlog: Scanner Scanlog: Coil  \\\n",
       "participant_id                                                               \n",
       "sub-pixar001              NaN           3.0              3T1    7-8yo 32ch   \n",
       "sub-pixar002              NaN           2.0              3T1    7-8yo 32ch   \n",
       "sub-pixar003              NaN           3.0              3T1    7-8yo 32ch   \n",
       "\n",
       "               Scanlog: Voxel slize  Scanlog: Slice Gap  \n",
       "participant_id                                           \n",
       "sub-pixar001                3mm iso                 0.1  \n",
       "sub-pixar002                3mm iso                 0.1  \n",
       "sub-pixar003                3mm iso                 0.1  "
      ]
     },
     "execution_count": 1,
     "metadata": {},
     "output_type": "execute_result"
    }
   ],
   "source": [
    "import sys\n",
    "sys.path.append('../')\n",
    "from Model_objs.abstract.Model import Model\n",
    "import pandas as pd\n",
    "\n",
    "model = Model(\n",
    "    participants_df = pd.read_csv('..\\Data\\participants.tsv', sep='\\t', index_col=0)\n",
    ")\n",
    "\n",
    "model.participants_df = model.participants_df.iloc[:3] # testing with 3 rows\n",
    "model.participants_df"
   ]
  },
  {
   "cell_type": "code",
   "execution_count": 2,
   "id": "c612e592",
   "metadata": {},
   "outputs": [
    {
     "data": {
      "text/plain": [
       "(91, 109, 91)"
      ]
     },
     "execution_count": 2,
     "metadata": {},
     "output_type": "execute_result"
    }
   ],
   "source": [
    "mask_3d_img = model.atlas_handler.get_roi_mask('Prefrontal Cortex')\n",
    "mask_3d_img.shape"
   ]
  },
  {
   "cell_type": "code",
   "execution_count": 3,
   "id": "8f01ac7d",
   "metadata": {},
   "outputs": [
    {
     "name": "stderr",
     "output_type": "stream",
     "text": [
      "c:\\Users\\Danny\\Documents\\Coding Projects\\Demographic_Predictive_Modeling_From_MRIs\\Notes\\..\\Util\\Nifti\\NiftiHandler.py:113: FutureWarning: 'force_resample' will be set to 'True' by default in Nilearn 0.13.0.\n",
      "Use 'force_resample=True' to suppress this warning.\n",
      "  return resample_to_img(\n",
      "c:\\Users\\Danny\\Documents\\Coding Projects\\Demographic_Predictive_Modeling_From_MRIs\\Notes\\..\\Util\\Nifti\\NiftiHandler.py:113: FutureWarning: From release 0.13.0 onwards, this function will, by default, copy the header of the input image to the output. Currently, the header is reset to the default Nifti1Header. To suppress this warning and use the new behavior, set `copy_header=True`.\n",
      "  return resample_to_img(\n"
     ]
    },
    {
     "data": {
      "text/plain": [
       "(64, 64, 32)"
      ]
     },
     "execution_count": 3,
     "metadata": {},
     "output_type": "execute_result"
    }
   ],
   "source": [
    "import nibabel as nib\n",
    "model.nifti_handler.img = nib.load('../Data/func/sub-pixar001.nii.gz')\n",
    "mask_3d_img = model.nifti_handler.resample_mask_shape(mask_3d_img)\n",
    "\n",
    "mask_3d_img.shape"
   ]
  },
  {
   "cell_type": "code",
   "execution_count": 4,
   "id": "d3ae5b21",
   "metadata": {},
   "outputs": [
    {
     "name": "stderr",
     "output_type": "stream",
     "text": [
      "c:\\Users\\Danny\\Documents\\Coding Projects\\Demographic_Predictive_Modeling_From_MRIs\\Notes\\..\\Util\\Nifti\\NiftiHandler.py:113: FutureWarning: 'force_resample' will be set to 'True' by default in Nilearn 0.13.0.\n",
      "Use 'force_resample=True' to suppress this warning.\n",
      "  return resample_to_img(\n",
      "c:\\Users\\Danny\\Documents\\Coding Projects\\Demographic_Predictive_Modeling_From_MRIs\\Notes\\..\\Util\\Nifti\\NiftiHandler.py:113: FutureWarning: From release 0.13.0 onwards, this function will, by default, copy the header of the input image to the output. Currently, the header is reset to the default Nifti1Header. To suppress this warning and use the new behavior, set `copy_header=True`.\n",
      "  return resample_to_img(\n"
     ]
    },
    {
     "ename": "ValueError",
     "evalue": "could not broadcast input array from shape (4617,) into shape (64,64,32)",
     "output_type": "error",
     "traceback": [
      "\u001b[1;31m---------------------------------------------------------------------------\u001b[0m",
      "\u001b[1;31mValueError\u001b[0m                                Traceback (most recent call last)",
      "Cell \u001b[1;32mIn[4], line 1\u001b[0m\n\u001b[1;32m----> 1\u001b[0m \u001b[43mmodel\u001b[49m\u001b[38;5;241;43m.\u001b[39;49m\u001b[43m_load_single_roi\u001b[49m\u001b[43m(\u001b[49m\n\u001b[0;32m      2\u001b[0m \u001b[43m    \u001b[49m\u001b[43mpatient_id\u001b[49m\u001b[43m \u001b[49m\u001b[38;5;241;43m=\u001b[39;49m\u001b[43m \u001b[49m\u001b[38;5;124;43m'\u001b[39;49m\u001b[38;5;124;43msub-pixar001\u001b[39;49m\u001b[38;5;124;43m'\u001b[39;49m\u001b[43m,\u001b[49m\n\u001b[0;32m      3\u001b[0m \u001b[43m    \u001b[49m\u001b[43mROI\u001b[49m\u001b[43m \u001b[49m\u001b[38;5;241;43m=\u001b[39;49m\u001b[43m \u001b[49m\u001b[38;5;124;43m'\u001b[39;49m\u001b[38;5;124;43mPrefrontal Cortex\u001b[39;49m\u001b[38;5;124;43m'\u001b[39;49m\u001b[43m,\u001b[49m\n\u001b[0;32m      4\u001b[0m \u001b[43m    \u001b[49m\u001b[43mmask_img_3d\u001b[49m\u001b[43m \u001b[49m\u001b[38;5;241;43m=\u001b[39;49m\u001b[43m \u001b[49m\u001b[43mmodel\u001b[49m\u001b[38;5;241;43m.\u001b[39;49m\u001b[43matlas_handler\u001b[49m\u001b[38;5;241;43m.\u001b[39;49m\u001b[43mget_roi_mask\u001b[49m\u001b[43m(\u001b[49m\u001b[38;5;124;43m'\u001b[39;49m\u001b[38;5;124;43mPrefrontal Cortex\u001b[39;49m\u001b[38;5;124;43m'\u001b[39;49m\u001b[43m)\u001b[49m\n\u001b[0;32m      5\u001b[0m \u001b[43m)\u001b[49m\n",
      "File \u001b[1;32mc:\\Users\\Danny\\Documents\\Coding Projects\\Demographic_Predictive_Modeling_From_MRIs\\Notes\\..\\Model.py:68\u001b[0m, in \u001b[0;36mModel._load_single_roi\u001b[1;34m(self, patient_id, ROI, mask_img_3d)\u001b[0m\n\u001b[0;32m     65\u001b[0m img_path \u001b[38;5;241m=\u001b[39m \u001b[38;5;124mf\u001b[39m\u001b[38;5;124m'\u001b[39m\u001b[38;5;124m../Data/func/\u001b[39m\u001b[38;5;132;01m{\u001b[39;00mpatient_id\u001b[38;5;132;01m}\u001b[39;00m\u001b[38;5;124m.nii.gz\u001b[39m\u001b[38;5;124m'\u001b[39m\n\u001b[0;32m     67\u001b[0m \u001b[38;5;28mself\u001b[39m\u001b[38;5;241m.\u001b[39mnifti_handler\u001b[38;5;241m.\u001b[39mimg \u001b[38;5;241m=\u001b[39m nib\u001b[38;5;241m.\u001b[39mload(img_path)\n\u001b[1;32m---> 68\u001b[0m roi_img_4d \u001b[38;5;241m=\u001b[39m \u001b[38;5;28;43mself\u001b[39;49m\u001b[38;5;241;43m.\u001b[39;49m\u001b[43mnifti_handler\u001b[49m\u001b[38;5;241;43m.\u001b[39;49m\u001b[43mget_roi_img\u001b[49m\u001b[43m(\u001b[49m\u001b[43mROI\u001b[49m\u001b[43m)\u001b[49m\n\u001b[0;32m     70\u001b[0m roi_img_4d_data \u001b[38;5;241m=\u001b[39m roi_img_4d\u001b[38;5;241m.\u001b[39mget_fdata()\n\u001b[0;32m     71\u001b[0m \u001b[38;5;241m*\u001b[39m_, nt \u001b[38;5;241m=\u001b[39m roi_img_4d\u001b[38;5;241m.\u001b[39mshape\n",
      "File \u001b[1;32mc:\\Users\\Danny\\Documents\\Coding Projects\\Demographic_Predictive_Modeling_From_MRIs\\Notes\\..\\Util\\Nifti\\NiftiHandler.py:96\u001b[0m, in \u001b[0;36mNiftiHandler.get_roi_img\u001b[1;34m(self, roi)\u001b[0m\n\u001b[0;32m     93\u001b[0m masked_img_data \u001b[38;5;241m=\u001b[39m np\u001b[38;5;241m.\u001b[39mzeros_like(img_data, np\u001b[38;5;241m.\u001b[39mfloat64)\n\u001b[0;32m     94\u001b[0m \u001b[38;5;28;01mfor\u001b[39;00m t \u001b[38;5;129;01min\u001b[39;00m \u001b[38;5;28mrange\u001b[39m(img_data\u001b[38;5;241m.\u001b[39mshape[\u001b[38;5;241m-\u001b[39m\u001b[38;5;241m1\u001b[39m]):\n\u001b[0;32m     95\u001b[0m     \u001b[38;5;66;03m# Apply the binary PFC mask\u001b[39;00m\n\u001b[1;32m---> 96\u001b[0m     \u001b[43mmasked_img_data\u001b[49m\u001b[43m[\u001b[49m\u001b[38;5;241;43m.\u001b[39;49m\u001b[38;5;241;43m.\u001b[39;49m\u001b[38;5;241;43m.\u001b[39;49m\u001b[43m,\u001b[49m\u001b[43m \u001b[49m\u001b[43mt\u001b[49m\u001b[43m]\u001b[49m \u001b[38;5;241m=\u001b[39m img_data[\u001b[38;5;241m.\u001b[39m\u001b[38;5;241m.\u001b[39m\u001b[38;5;241m.\u001b[39m, t][mask_data]\n\u001b[0;32m     98\u001b[0m \u001b[38;5;28;01mif\u001b[39;00m \u001b[38;5;28mself\u001b[39m\u001b[38;5;241m.\u001b[39mis_3D:\n\u001b[0;32m     99\u001b[0m     masked_img_data \u001b[38;5;241m=\u001b[39m masked_img_data[\u001b[38;5;241m.\u001b[39m\u001b[38;5;241m.\u001b[39m\u001b[38;5;241m.\u001b[39m, \u001b[38;5;241m0\u001b[39m]\n",
      "\u001b[1;31mValueError\u001b[0m: could not broadcast input array from shape (4617,) into shape (64,64,32)"
     ]
    }
   ],
   "source": [
    "model._load_single_roi(\n",
    "    patient_id = 'sub-pixar001',\n",
    "    ROI = 'Prefrontal Cortex',\n",
    "    mask_img_3d = model.atlas_handler.get_roi_mask('Prefrontal Cortex')\n",
    ")"
   ]
  }
 ],
 "metadata": {
  "kernelspec": {
   "display_name": "Python 3",
   "language": "python",
   "name": "python3"
  },
  "language_info": {
   "codemirror_mode": {
    "name": "ipython",
    "version": 3
   },
   "file_extension": ".py",
   "mimetype": "text/x-python",
   "name": "python",
   "nbconvert_exporter": "python",
   "pygments_lexer": "ipython3",
   "version": "3.11.9"
  }
 },
 "nbformat": 4,
 "nbformat_minor": 5
}
