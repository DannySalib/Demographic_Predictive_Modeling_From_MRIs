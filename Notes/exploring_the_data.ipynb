{
 "cells": [
  {
   "cell_type": "code",
   "execution_count": 1,
   "id": "c8fbe714",
   "metadata": {},
   "outputs": [
    {
     "name": "stdout",
     "output_type": "stream",
     "text": [
      "ds000228/sub-pixar001/anat/sub-pixar001_T1w.nii.gz\n",
      "sub-pixar001_T1w.nii.gz\n"
     ]
    }
   ],
   "source": [
    "import sys \n",
    "import os \n",
    "# Add the project root to sys.path\n",
    "sys.path.append(os.path.abspath('../'))\n",
    "\n",
    "from Util.Client import download_file, example_key, example_file_name\n",
    "\n",
    "print(example_key)\n",
    "print(example_file_name)"
   ]
  },
  {
   "cell_type": "code",
   "execution_count": 2,
   "id": "ff40b824",
   "metadata": {},
   "outputs": [
    {
     "data": {
      "text/plain": [
       "'Downloaded to ../Data/sub-pixar001_T1w.nii.gz'"
      ]
     },
     "execution_count": 2,
     "metadata": {},
     "output_type": "execute_result"
    }
   ],
   "source": [
    "download_file(\n",
    "    key = example_key,\n",
    "    the_file_name_you_want = example_file_name\n",
    ")"
   ]
  },
  {
   "cell_type": "code",
   "execution_count": null,
   "id": "9247df92",
   "metadata": {},
   "outputs": [],
   "source": []
  }
 ],
 "metadata": {
  "kernelspec": {
   "display_name": "Python 3",
   "language": "python",
   "name": "python3"
  },
  "language_info": {
   "codemirror_mode": {
    "name": "ipython",
    "version": 3
   },
   "file_extension": ".py",
   "mimetype": "text/x-python",
   "name": "python",
   "nbconvert_exporter": "python",
   "pygments_lexer": "ipython3",
   "version": "3.11.9"
  }
 },
 "nbformat": 4,
 "nbformat_minor": 5
}
